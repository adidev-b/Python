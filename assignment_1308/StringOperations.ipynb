{
 "cells": [
  {
   "cell_type": "markdown",
   "id": "424fe53b",
   "metadata": {},
   "source": [
    "#### Remove a string from input list "
   ]
  },
  {
   "cell_type": "code",
   "execution_count": 1,
   "id": "f0444055",
   "metadata": {},
   "outputs": [],
   "source": [
    "input_list=['SAS', 'R', 'PYTHON', 'SPSS']"
   ]
  },
  {
   "cell_type": "code",
   "execution_count": 2,
   "id": "6efeb983",
   "metadata": {},
   "outputs": [],
   "source": [
    "input_list.remove('SPSS')"
   ]
  },
  {
   "cell_type": "code",
   "execution_count": 3,
   "id": "4d710af8",
   "metadata": {},
   "outputs": [],
   "source": [
    "input_list.append('SPARK')"
   ]
  },
  {
   "cell_type": "code",
   "execution_count": 4,
   "id": "d8225bc9",
   "metadata": {},
   "outputs": [
    {
     "data": {
      "text/plain": [
       "['SAS', 'R', 'PYTHON', 'SPARK']"
      ]
     },
     "execution_count": 4,
     "metadata": {},
     "output_type": "execute_result"
    }
   ],
   "source": [
    "input_list"
   ]
  },
  {
   "cell_type": "markdown",
   "id": "036ddf59",
   "metadata": {},
   "source": [
    "#### String to list conversion"
   ]
  },
  {
   "cell_type": "code",
   "execution_count": 5,
   "id": "a542995d",
   "metadata": {},
   "outputs": [],
   "source": [
    "str1 = 'I love Data Science & Python'"
   ]
  },
  {
   "cell_type": "code",
   "execution_count": 6,
   "id": "4cb5aafe",
   "metadata": {},
   "outputs": [
    {
     "data": {
      "text/plain": [
       "['I love Data Science ', ' Python']"
      ]
     },
     "execution_count": 6,
     "metadata": {},
     "output_type": "execute_result"
    }
   ],
   "source": [
    "str1.split('&')"
   ]
  },
  {
   "cell_type": "markdown",
   "id": "7d3d2314",
   "metadata": {},
   "source": [
    "#### List to string conversion"
   ]
  },
  {
   "cell_type": "code",
   "execution_count": 7,
   "id": "db786b76",
   "metadata": {},
   "outputs": [],
   "source": [
    "str2 = ['Python syntax is easy to learn','Python syntax is very clear']"
   ]
  },
  {
   "cell_type": "code",
   "execution_count": 8,
   "id": "94ff6ccf",
   "metadata": {},
   "outputs": [],
   "source": [
    "listToStr = ' & '.join(str(elem) for elem in str2)"
   ]
  },
  {
   "cell_type": "code",
   "execution_count": 9,
   "id": "27d64097",
   "metadata": {},
   "outputs": [
    {
     "data": {
      "text/plain": [
       "'Python syntax is easy to learn & Python syntax is very clear'"
      ]
     },
     "execution_count": 9,
     "metadata": {},
     "output_type": "execute_result"
    }
   ],
   "source": [
    "listToStr"
   ]
  },
  {
   "cell_type": "markdown",
   "id": "bb7e3293",
   "metadata": {},
   "source": [
    "#### Nested List : Extract Value "
   ]
  },
  {
   "cell_type": "code",
   "execution_count": 10,
   "id": "9138684d",
   "metadata": {},
   "outputs": [],
   "source": [
    "input_list1 = [['SAS','R'],['Tableau','SQL'],['Python','Java']]"
   ]
  },
  {
   "cell_type": "code",
   "execution_count": 11,
   "id": "03b0b0e6",
   "metadata": {},
   "outputs": [
    {
     "data": {
      "text/plain": [
       "'Python'"
      ]
     },
     "execution_count": 11,
     "metadata": {},
     "output_type": "execute_result"
    }
   ],
   "source": [
    "input_list1[2][0]"
   ]
  },
  {
   "cell_type": "code",
   "execution_count": 12,
   "id": "9c2a29f0",
   "metadata": {},
   "outputs": [],
   "source": [
    "t = (\"disco\", 12, 4.5)"
   ]
  },
  {
   "cell_type": "code",
   "execution_count": 13,
   "id": "62711176",
   "metadata": {},
   "outputs": [
    {
     "data": {
      "text/plain": [
       "'s'"
      ]
     },
     "execution_count": 13,
     "metadata": {},
     "output_type": "execute_result"
    }
   ],
   "source": [
    "t[0][2]"
   ]
  },
  {
   "cell_type": "markdown",
   "id": "40c8827e",
   "metadata": {},
   "source": [
    "#### String Palindrome "
   ]
  },
  {
   "cell_type": "code",
   "execution_count": 14,
   "id": "b28e9cec",
   "metadata": {},
   "outputs": [],
   "source": [
    "#Using lambda expression for palindrome check\n",
    "boo = lambda x:1 if x==''.join(reversed(y)) else 0"
   ]
  },
  {
   "cell_type": "code",
   "execution_count": 15,
   "id": "6e69230c",
   "metadata": {},
   "outputs": [
    {
     "name": "stdout",
     "output_type": "stream",
     "text": [
      "Enter a string for palindrome check abcba\n",
      "1\n"
     ]
    }
   ],
   "source": [
    "y = input(\"Enter a string for palindrome check \")\n",
    "\n",
    "#print(y)\n",
    "#print(''.join(reversed(y)))\n",
    "print(boo(y))"
   ]
  },
  {
   "cell_type": "markdown",
   "id": "93c08f48",
   "metadata": {},
   "source": [
    "#### Reverse the order of words "
   ]
  },
  {
   "cell_type": "code",
   "execution_count": 16,
   "id": "1952f323",
   "metadata": {},
   "outputs": [],
   "source": [
    "sent = 'Sample sentence to be used for ordering'"
   ]
  },
  {
   "cell_type": "code",
   "execution_count": 17,
   "id": "2ff017eb",
   "metadata": {},
   "outputs": [],
   "source": [
    "sent_list = sent.split()"
   ]
  },
  {
   "cell_type": "code",
   "execution_count": 18,
   "id": "2f392794",
   "metadata": {},
   "outputs": [
    {
     "data": {
      "text/plain": [
       "['Sample', 'sentence', 'to', 'be', 'used', 'for', 'ordering']"
      ]
     },
     "execution_count": 18,
     "metadata": {},
     "output_type": "execute_result"
    }
   ],
   "source": [
    "sent_list"
   ]
  },
  {
   "cell_type": "code",
   "execution_count": 19,
   "id": "6848faed",
   "metadata": {},
   "outputs": [
    {
     "name": "stdout",
     "output_type": "stream",
     "text": [
      "['ordering', 'for', 'used', 'be', 'to', 'sentence', 'Sample']\n"
     ]
    }
   ],
   "source": [
    "#Initialising a empty list\n",
    "reverse_list= []\n",
    "for i in reversed(sent_list):\n",
    "    reverse_list.append(i)\n",
    "print(reverse_list)"
   ]
  },
  {
   "cell_type": "code",
   "execution_count": 20,
   "id": "c36d74e1",
   "metadata": {},
   "outputs": [],
   "source": [
    "#Reverse list now converted into sentence\n",
    "reverse_order = ' '.join(map(str,reverse_list))"
   ]
  },
  {
   "cell_type": "code",
   "execution_count": 21,
   "id": "522175de",
   "metadata": {},
   "outputs": [
    {
     "name": "stdout",
     "output_type": "stream",
     "text": [
      "ordering for used be to sentence Sample\n"
     ]
    }
   ],
   "source": [
    "print(reverse_order)"
   ]
  },
  {
   "cell_type": "markdown",
   "id": "9d956b62",
   "metadata": {},
   "source": [
    "#### String formatting "
   ]
  },
  {
   "cell_type": "code",
   "execution_count": 24,
   "id": "ebdfc705",
   "metadata": {},
   "outputs": [
    {
     "name": "stdout",
     "output_type": "stream",
     "text": [
      "Enter a string with no formattingcaloRie ConsuMed\n"
     ]
    },
    {
     "data": {
      "text/plain": [
       "'calorie_consumed'"
      ]
     },
     "execution_count": 24,
     "metadata": {},
     "output_type": "execute_result"
    }
   ],
   "source": [
    "unformat_str = input('Enter a string with no formatting')\n",
    "\n",
    "#To lowercase \n",
    "unformat_str.lower().replace(\" \", \"_\")\n"
   ]
  },
  {
   "cell_type": "code",
   "execution_count": null,
   "id": "4edbc945",
   "metadata": {},
   "outputs": [],
   "source": []
  }
 ],
 "metadata": {
  "kernelspec": {
   "display_name": "Python 3",
   "language": "python",
   "name": "python3"
  },
  "language_info": {
   "codemirror_mode": {
    "name": "ipython",
    "version": 3
   },
   "file_extension": ".py",
   "mimetype": "text/x-python",
   "name": "python",
   "nbconvert_exporter": "python",
   "pygments_lexer": "ipython3",
   "version": "3.8.8"
  }
 },
 "nbformat": 4,
 "nbformat_minor": 5
}
